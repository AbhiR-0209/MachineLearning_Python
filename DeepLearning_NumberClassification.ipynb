{
  "nbformat": 4,
  "nbformat_minor": 0,
  "metadata": {
    "colab": {
      "name": "DeepLearning_NumberClassification.ipynb",
      "provenance": [],
      "authorship_tag": "ABX9TyOzGN1oNQGMRph2N2/CaeRQ",
      "include_colab_link": true
    },
    "kernelspec": {
      "name": "python3",
      "display_name": "Python 3"
    },
    "language_info": {
      "name": "python"
    }
  },
  "cells": [
    {
      "cell_type": "markdown",
      "metadata": {
        "id": "view-in-github",
        "colab_type": "text"
      },
      "source": [
        "<a href=\"https://colab.research.google.com/github/AbhiR-0209/MachineLearning_Python/blob/main/DeepLearning_NumberClassification.ipynb\" target=\"_parent\"><img src=\"https://colab.research.google.com/assets/colab-badge.svg\" alt=\"Open In Colab\"/></a>"
      ]
    },
    {
      "cell_type": "code",
      "metadata": {
        "id": "w0TDfkXp8Lbz"
      },
      "source": [
        "import pandas as pd\n",
        "import numpy as np\n",
        "import tensorflow as tf"
      ],
      "execution_count": 1,
      "outputs": []
    },
    {
      "cell_type": "code",
      "metadata": {
        "id": "WqsTGwwV8jHP"
      },
      "source": [
        "mnist = tf.keras.datasets.mnist  #28 x 28 size images stored in the dataset with the number classifications from 0 to 9\n",
        "(x_train,y_train),(x_test,y_test)= mnist.load_data()\n",
        "\n",
        "x_train = tf.keras.utils.normalize(x_train,axis = 1)\n",
        "x_test = tf.keras.utils.normalize(x_test,axis = 1)\n",
        "\n"
      ],
      "execution_count": 20,
      "outputs": []
    },
    {
      "cell_type": "code",
      "metadata": {
        "colab": {
          "base_uri": "https://localhost:8080/",
          "height": 283
        },
        "id": "BWUaw6vC9ZLH",
        "outputId": "77dfa11d-b94b-4e8a-f18a-714188d0fe73"
      },
      "source": [
        "import matplotlib.pyplot as plt\n",
        "plt.imshow(x_train[0],cmap= plt.cm.binary)"
      ],
      "execution_count": 12,
      "outputs": [
        {
          "output_type": "execute_result",
          "data": {
            "text/plain": [
              "<matplotlib.image.AxesImage at 0x7fecc6638810>"
            ]
          },
          "metadata": {},
          "execution_count": 12
        },
        {
          "output_type": "display_data",
          "data": {
            "image/png": "[encoded data removed]",
            "text/plain": [
              "<Figure size 432x288 with 1 Axes>"
            ]
          },
          "metadata": {
            "needs_background": "light"
          }
        }
      ]
    },
    {
      "cell_type": "code",
      "metadata": {
        "colab": {
          "base_uri": "https://localhost:8080/"
        },
        "id": "i04IM1mbCV0u",
        "outputId": "b3e4f879-c08d-4b90-d0f0-b2d2babf744a"
      },
      "source": [
        "model = tf.keras.models.Sequential()\n",
        "model.add(tf.keras.layers.Flatten()) #input layer with 2D Information flattened to a single dimension to adjust it into the Input Layer\n",
        "model.add(tf.keras.layers.Dense(128,activation=tf.nn.relu)) #First Hidden Layer\n",
        "model.add(tf.keras.layers.Dense(128,activation=tf.nn.relu)) #Second Hidden Layer\n",
        "model.add(tf.keras.layers.Dense(10,activation=tf.nn.softmax))  #Output Layer for the Classification\n",
        "\n",
        "model.compile(optimizer ='adam', loss = 'sparse_categorical_crossentropy', metrics = ['accuracy'])\n",
        "\n",
        "model.fit(x_train,y_train, epochs = 5)"
      ],
      "execution_count": 21,
      "outputs": [
        {
          "output_type": "stream",
          "text": [
            "Epoch 1/5\n",
            "1875/1875 [==============================] - 4s 2ms/step - loss: 0.2633 - accuracy: 0.9222\n",
            "Epoch 2/5\n",
            "1875/1875 [==============================] - 4s 2ms/step - loss: 0.1101 - accuracy: 0.9662\n",
            "Epoch 3/5\n",
            "1875/1875 [==============================] - 4s 2ms/step - loss: 0.0748 - accuracy: 0.9764\n",
            "Epoch 4/5\n",
            "1875/1875 [==============================] - 4s 2ms/step - loss: 0.0549 - accuracy: 0.9828\n",
            "Epoch 5/5\n",
            "1875/1875 [==============================] - 4s 2ms/step - loss: 0.0412 - accuracy: 0.9870\n"
          ],
          "name": "stdout"
        },
        {
          "output_type": "execute_result",
          "data": {
            "text/plain": [
              "<keras.callbacks.History at 0x7fecc233a1d0>"
            ]
          },
          "metadata": {},
          "execution_count": 21
        }
      ]
    },
    {
      "cell_type": "code",
      "metadata": {
        "colab": {
          "base_uri": "https://localhost:8080/"
        },
        "id": "5UD7IhDNC61x",
        "outputId": "00cfe225-d7a1-4476-89d8-855e9efcc107"
      },
      "source": [
        "val_loss, val_acc = model.evaluate(x_test,y_test)\n",
        "print(val_loss,val_acc)"
      ],
      "execution_count": 22,
      "outputs": [
        {
          "output_type": "stream",
          "text": [
            "313/313 [==============================] - 1s 1ms/step - loss: 0.0877 - accuracy: 0.9742\n",
            "0.0877230316400528 0.9742000102996826\n"
          ],
          "name": "stdout"
        }
      ]
    },
    {
      "cell_type": "code",
      "metadata": {
        "colab": {
          "base_uri": "https://localhost:8080/",
          "height": 283
        },
        "id": "hxv0SkYZDK2T",
        "outputId": "425a4c1b-819b-41e1-f4a5-26a23597c6b1"
      },
      "source": [
        "predictions = model.predict([x_test])\n",
        "\n",
        "plt.imshow(x_test[56])\n",
        "print(np.argmax(predictions[56]))\n"
      ],
      "execution_count": 29,
      "outputs": [
        {
          "output_type": "stream",
          "text": [
            "4\n"
          ],
          "name": "stdout"
        },
        {
          "output_type": "display_data",
          "data": {
            "image/png": "[encoded data removed]",
            "text/plain": [
              "<Figure size 432x288 with 1 Axes>"
            ]
          },
          "metadata": {
            "needs_background": "light"
          }
        }
      ]
    }
  ]
}